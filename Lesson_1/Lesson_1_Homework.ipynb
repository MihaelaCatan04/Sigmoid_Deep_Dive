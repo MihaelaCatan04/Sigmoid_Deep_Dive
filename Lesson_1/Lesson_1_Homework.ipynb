{
  "cells": [
    {
      "cell_type": "markdown",
      "metadata": {
        "id": "view-in-github",
        "colab_type": "text"
      },
      "source": [
        "<a href=\"https://colab.research.google.com/github/MihaelaCatan04/Sigmoid_Deep_Dive/blob/main/Lesson_1/Lesson_1_Homework.ipynb\" target=\"_parent\"><img src=\"https://colab.research.google.com/assets/colab-badge.svg\" alt=\"Open In Colab\"/></a>"
      ]
    },
    {
      "cell_type": "markdown",
      "metadata": {
        "id": "ov0s3sf8lvr1"
      },
      "source": [
        "### Homework Nr.1\n",
        "#### Tasks:\n",
        "1. Complete week 3 and 4 of the first course from specialization;\n",
        "2. Go step by step and try to remember and understand everything we did during the lesson;\n",
        "3. Complete the practical Task\n",
        "\n",
        "#### Practical Task:\n",
        "Implement a logistic regression model using PyTorch to classify images from the MNIST dataset.\n",
        "1. Implement all needed libraries\n",
        "2. Load and display few images from the dataset\n",
        "3. Train-test split\n",
        "4. Create DataLoaders for each set\n",
        "5. Create Neural Network Class\n",
        "6. Create Training and Testing loop\n",
        "7. Train your model\n",
        "8. Test your model\n",
        "9. Output your results (accuracy and prediction examples)\n",
        "10. Draw conclusions\n",
        "\n",
        "\n",
        "Good luck!"
      ]
    },
    {
      "cell_type": "markdown",
      "source": [
        "### Solution:"
      ],
      "metadata": {
        "id": "N2QhtG_RtA3z"
      }
    },
    {
      "cell_type": "markdown",
      "source": [
        "Import all the necessary dependencies:"
      ],
      "metadata": {
        "id": "L-Z8vqiNn519"
      }
    },
    {
      "cell_type": "code",
      "source": [
        "import torch\n",
        "from torch import nn\n",
        "from torch.utils.data import DataLoader\n",
        "from torchvision import datasets\n",
        "from torchvision.transforms import ToTensor"
      ],
      "metadata": {
        "id": "yvOZFxsTnPU1"
      },
      "execution_count": 1,
      "outputs": []
    },
    {
      "cell_type": "code",
      "source": [
        "# Download training data from open datasets.\n",
        "training_data = datasets.MNIST(\n",
        "    root=\"data\",\n",
        "    train=True,\n",
        "    download=True,\n",
        "    transform=ToTensor(),\n",
        ")\n",
        "\n",
        "# Download tes data from open datasets.\n",
        "test_data = datasets.MNIST(\n",
        "    root=\"data\",\n",
        "    train=False,\n",
        "    download=True,\n",
        "    transform=ToTensor()\n",
        ")"
      ],
      "metadata": {
        "id": "ueKIl0Wan-8Y"
      },
      "execution_count": 2,
      "outputs": []
    },
    {
      "cell_type": "markdown",
      "source": [
        "Show an image of each class:"
      ],
      "metadata": {
        "id": "W8DHF3TXofpF"
      }
    },
    {
      "cell_type": "code",
      "source": [
        "import matplotlib.pyplot as plt\n",
        "class_images = {}\n",
        "\n",
        "# Store all unique labels in class_images\n",
        "for image, label in training_data:\n",
        "    if label not in class_images:\n",
        "        class_images[label] = image\n",
        "    if len(class_images) == 10:\n",
        "        break\n",
        "\n",
        "# Plot an image of each class\n",
        "fig, axs = plt.subplots(2, 5, figsize=(10, 5))\n",
        "fig.suptitle(\"Dataset classes (0-9)\")\n",
        "\n",
        "for i, (label, image) in enumerate(class_images.items()):\n",
        "    ax = axs[i // 5, i % 5]\n",
        "    ax.imshow(image.squeeze(), cmap=\"gray\")\n",
        "    ax.set_title(f\"Class {label}\")\n",
        "    ax.axis(\"off\")\n",
        "\n",
        "plt.show()"
      ],
      "metadata": {
        "colab": {
          "base_uri": "https://localhost:8080/",
          "height": 420
        },
        "id": "r4HG3epioNlz",
        "outputId": "1e4fa11d-a2ca-4d56-c746-16afe283a6b5"
      },
      "execution_count": 20,
      "outputs": [
        {
          "output_type": "display_data",
          "data": {
            "text/plain": [
              "<Figure size 1000x500 with 10 Axes>"
            ],
            "image/png": "[encoded data removed]"
          },
          "metadata": {}
        }
      ]
    },
    {
      "cell_type": "markdown",
      "source": [
        "Create the DataLoader:"
      ],
      "metadata": {
        "id": "nBdQylhBpFEr"
      }
    },
    {
      "cell_type": "code",
      "source": [
        "batch_size = 64\n",
        "train_dataloader = DataLoader(training_data, batch_size=batch_size)\n",
        "test_dataloader = DataLoader(test_data, batch_size=batch_size)\n",
        "\n",
        "for X, y in test_dataloader:\n",
        "  print(f\"Shape of X: {X.shape}\")\n",
        "  print(f\"Shape of y: {y.shape}\")\n",
        "  break"
      ],
      "metadata": {
        "colab": {
          "base_uri": "https://localhost:8080/"
        },
        "id": "wTbhyHi4oxUg",
        "outputId": "050ec020-c361-4f26-8008-c89613b35f22"
      },
      "execution_count": 5,
      "outputs": [
        {
          "output_type": "stream",
          "name": "stdout",
          "text": [
            "Shape of X: torch.Size([64, 1, 28, 28])\n",
            "Shape of y: torch.Size([64])\n"
          ]
        }
      ]
    },
    {
      "cell_type": "markdown",
      "source": [
        "Set the device to GPU if available:"
      ],
      "metadata": {
        "id": "MBSP2rGNpqfI"
      }
    },
    {
      "cell_type": "code",
      "source": [
        "device = (\n",
        "    \"cuda\" if torch.cuda.is_available()\n",
        "    else \"mps\" if torch.mps.is_available()\n",
        "    else \"cpu\"\n",
        ")"
      ],
      "metadata": {
        "id": "vf-2ooMHpa1c"
      },
      "execution_count": 6,
      "outputs": []
    },
    {
      "cell_type": "code",
      "source": [
        "print(f\"Your laptop is using {device}\")"
      ],
      "metadata": {
        "colab": {
          "base_uri": "https://localhost:8080/"
        },
        "id": "LEQv1lEMpvym",
        "outputId": "27919fb8-89aa-40be-dd47-6ff785e306b8"
      },
      "execution_count": 7,
      "outputs": [
        {
          "output_type": "stream",
          "name": "stdout",
          "text": [
            "Your laptop is using cpu\n"
          ]
        }
      ]
    },
    {
      "cell_type": "markdown",
      "source": [
        "Create a Neural Network that inherits from the LogisticRegressionModel:"
      ],
      "metadata": {
        "id": "6BB3-JOqpxU1"
      }
    },
    {
      "cell_type": "code",
      "source": [
        "class LogisticRegression(nn.Module):\n",
        "  def __init__(self):\n",
        "    super().__init__()\n",
        "    self.flatten = nn.Flatten()\n",
        "    self.linear = nn.Linear(28 * 28, 10)\n",
        "\n",
        "  def forward(self, x):\n",
        "    x = self.flatten(x)\n",
        "    x = self.linear(x)\n",
        "    predictions = torch.sigmoid(x)\n",
        "    return predictions\n",
        "\n",
        "model = LogisticRegression().to(device)\n",
        "print(model)"
      ],
      "metadata": {
        "colab": {
          "base_uri": "https://localhost:8080/"
        },
        "id": "HfR4I8SEpwXH",
        "outputId": "ea8b4e78-5a9d-45b1-ac93-7c1be9187117"
      },
      "execution_count": 8,
      "outputs": [
        {
          "output_type": "stream",
          "name": "stdout",
          "text": [
            "LogisticRegression(\n",
            "  (flatten): Flatten(start_dim=1, end_dim=-1)\n",
            "  (linear): Linear(in_features=784, out_features=10, bias=True)\n",
            ")\n"
          ]
        }
      ]
    },
    {
      "cell_type": "code",
      "source": [
        "loss_func = nn.CrossEntropyLoss()\n",
        "optimizer = torch.optim.SGD(model.parameters(), lr=1e-3)"
      ],
      "metadata": {
        "id": "gv86cibJriMx"
      },
      "execution_count": 9,
      "outputs": []
    },
    {
      "cell_type": "code",
      "source": [
        "def train(dataloader, model, loss_fn, optimizer):\n",
        "  size = len(dataloader.dataset)\n",
        "  model.train()\n",
        "  for batch_no, (X, y) in enumerate(dataloader):\n",
        "    X, y = X.to(device), y.to(device)\n",
        "\n",
        "    pred = model(X)\n",
        "    loss = loss_fn(pred, y)\n",
        "\n",
        "    loss.backward()\n",
        "    optimizer.step()\n",
        "    optimizer.zero_grad()\n",
        "\n",
        "    if batch_no % 100 == 0:\n",
        "      loss, current = loss.item(), (batch_no + 1) * len(X)\n",
        "      print(f\"Loss: {loss:>7f} [{current:>5d}/{size:>5d}]\")"
      ],
      "metadata": {
        "id": "3GDnj1SRtcpD"
      },
      "execution_count": 10,
      "outputs": []
    },
    {
      "cell_type": "code",
      "source": [
        "def test(dataloader, model, loss_fn):\n",
        "  size = len(dataloader.dataset)\n",
        "  num_batches = len(dataloader)\n",
        "  model.eval()\n",
        "  test_loss, correct = 0, 0\n",
        "  with torch.no_grad():\n",
        "    for X, y in dataloader:\n",
        "      X, y = X.to(device), y.to(device)\n",
        "      pred = model(X)\n",
        "      test_loss += loss_fn(pred, y).item()\n",
        "      correct += (pred.argmax(1) == y).type(torch.float).sum().item()\n",
        "    test_loss /= num_batches\n",
        "    correct /= size\n",
        "  print(f\"Test error: \\n Accuracy: {(100*correct):>0.1f}%, Avg loss: {test_loss:>8f} \\n\")"
      ],
      "metadata": {
        "id": "qEjRFbBOuWHP"
      },
      "execution_count": 11,
      "outputs": []
    },
    {
      "cell_type": "code",
      "source": [
        "print(f\"Unique target values in this batch: {y.unique()}\")"
      ],
      "metadata": {
        "colab": {
          "base_uri": "https://localhost:8080/"
        },
        "id": "SAqlSO5-wkuv",
        "outputId": "fc11abdc-fbfa-41ae-a986-4aa35ee0cb63"
      },
      "execution_count": 12,
      "outputs": [
        {
          "output_type": "stream",
          "name": "stdout",
          "text": [
            "Unique target values in this batch: tensor([0, 1, 2, 3, 4, 5, 6, 7, 8, 9])\n"
          ]
        }
      ]
    },
    {
      "cell_type": "code",
      "source": [
        "epochs = 25\n",
        "for epoch in range(epochs):\n",
        "  print(f\"Epoch {epoch+1}\\n------------------------------\")\n",
        "  train(train_dataloader, model, loss_func, optimizer)\n",
        "  test(test_dataloader, model, loss_func)\n",
        "print(\"DONE!\")"
      ],
      "metadata": {
        "colab": {
          "base_uri": "https://localhost:8080/"
        },
        "id": "5lvuNEmrvzua",
        "outputId": "28e79957-e406-414e-96fd-ab23b281463f"
      },
      "execution_count": 13,
      "outputs": [
        {
          "output_type": "stream",
          "name": "stdout",
          "text": [
            "Epoch 1\n",
            "------------------------------\n",
            "Loss: 2.317191 [   64/60000]\n",
            "Loss: 2.302024 [ 6464/60000]\n",
            "Loss: 2.295447 [12864/60000]\n",
            "Loss: 2.283239 [19264/60000]\n",
            "Loss: 2.281717 [25664/60000]\n",
            "Loss: 2.275386 [32064/60000]\n",
            "Loss: 2.268034 [38464/60000]\n",
            "Loss: 2.271561 [44864/60000]\n",
            "Loss: 2.253877 [51264/60000]\n",
            "Loss: 2.244089 [57664/60000]\n",
            "Test error: \n",
            " Accuracy: 35.6%, Avg loss: 2.248129 \n",
            "\n",
            "Epoch 2\n",
            "------------------------------\n",
            "Loss: 2.255813 [   64/60000]\n",
            "Loss: 2.239884 [ 6464/60000]\n",
            "Loss: 2.245231 [12864/60000]\n",
            "Loss: 2.212903 [19264/60000]\n",
            "Loss: 2.223569 [25664/60000]\n",
            "Loss: 2.220733 [32064/60000]\n",
            "Loss: 2.207356 [38464/60000]\n",
            "Loss: 2.224831 [44864/60000]\n",
            "Loss: 2.198301 [51264/60000]\n",
            "Loss: 2.190134 [57664/60000]\n",
            "Test error: \n",
            " Accuracy: 61.5%, Avg loss: 2.194090 \n",
            "\n",
            "Epoch 3\n",
            "------------------------------\n",
            "Loss: 2.203139 [   64/60000]\n",
            "Loss: 2.186151 [ 6464/60000]\n",
            "Loss: 2.199389 [12864/60000]\n",
            "Loss: 2.155960 [19264/60000]\n",
            "Loss: 2.172438 [25664/60000]\n",
            "Loss: 2.172502 [32064/60000]\n",
            "Loss: 2.157079 [38464/60000]\n",
            "Loss: 2.184460 [44864/60000]\n",
            "Loss: 2.151952 [51264/60000]\n",
            "Loss: 2.145615 [57664/60000]\n",
            "Test error: \n",
            " Accuracy: 69.2%, Avg loss: 2.148262 \n",
            "\n",
            "Epoch 4\n",
            "------------------------------\n",
            "Loss: 2.159178 [   64/60000]\n",
            "Loss: 2.140580 [ 6464/60000]\n",
            "Loss: 2.158401 [12864/60000]\n",
            "Loss: 2.109806 [19264/60000]\n",
            "Loss: 2.127793 [25664/60000]\n",
            "Loss: 2.130075 [32064/60000]\n",
            "Loss: 2.114781 [38464/60000]\n",
            "Loss: 2.149135 [44864/60000]\n",
            "Loss: 2.112530 [51264/60000]\n",
            "Loss: 2.108155 [57664/60000]\n",
            "Test error: \n",
            " Accuracy: 73.2%, Avg loss: 2.108855 \n",
            "\n",
            "Epoch 5\n",
            "------------------------------\n",
            "Loss: 2.121498 [   64/60000]\n",
            "Loss: 2.101257 [ 6464/60000]\n",
            "Loss: 2.122023 [12864/60000]\n",
            "Loss: 2.071246 [19264/60000]\n",
            "Loss: 2.088773 [25664/60000]\n",
            "Loss: 2.092817 [32064/60000]\n",
            "Loss: 2.078463 [38464/60000]\n",
            "Loss: 2.117849 [44864/60000]\n",
            "Loss: 2.078406 [51264/60000]\n",
            "Loss: 2.076014 [57664/60000]\n",
            "Test error: \n",
            " Accuracy: 75.9%, Avg loss: 2.074591 \n",
            "\n",
            "Epoch 6\n",
            "------------------------------\n",
            "Loss: 2.088625 [   64/60000]\n",
            "Loss: 2.066905 [ 6464/60000]\n",
            "Loss: 2.089800 [12864/60000]\n",
            "Loss: 2.038394 [19264/60000]\n",
            "Loss: 2.054649 [25664/60000]\n",
            "Loss: 2.060179 [32064/60000]\n",
            "Loss: 2.046909 [38464/60000]\n",
            "Loss: 2.090005 [44864/60000]\n",
            "Loss: 2.048632 [51264/60000]\n",
            "Loss: 2.048073 [57664/60000]\n",
            "Test error: \n",
            " Accuracy: 77.5%, Avg loss: 2.044620 \n",
            "\n",
            "Epoch 7\n",
            "------------------------------\n",
            "Loss: 2.059710 [   64/60000]\n",
            "Loss: 2.036723 [ 6464/60000]\n",
            "Loss: 2.061237 [12864/60000]\n",
            "Loss: 2.010110 [19264/60000]\n",
            "Loss: 2.024787 [25664/60000]\n",
            "Loss: 2.031609 [32064/60000]\n",
            "Loss: 2.019300 [38464/60000]\n",
            "Loss: 2.065187 [44864/60000]\n",
            "Loss: 2.022562 [51264/60000]\n",
            "Loss: 2.023575 [57664/60000]\n",
            "Test error: \n",
            " Accuracy: 78.8%, Avg loss: 2.018308 \n",
            "\n",
            "Epoch 8\n",
            "------------------------------\n",
            "Loss: 2.034168 [   64/60000]\n",
            "Loss: 2.010127 [ 6464/60000]\n",
            "Loss: 2.035871 [12864/60000]\n",
            "Loss: 1.985601 [19264/60000]\n",
            "Loss: 1.998613 [25664/60000]\n",
            "Loss: 2.006557 [32064/60000]\n",
            "Loss: 1.995014 [38464/60000]\n",
            "Loss: 2.043039 [44864/60000]\n",
            "Loss: 1.999666 [51264/60000]\n",
            "Loss: 2.001960 [57664/60000]\n",
            "Test error: \n",
            " Accuracy: 79.6%, Avg loss: 1.995127 \n",
            "\n",
            "Epoch 9\n",
            "------------------------------\n",
            "Loss: 2.011533 [   64/60000]\n",
            "Loss: 1.986635 [ 6464/60000]\n",
            "Loss: 2.013278 [12864/60000]\n",
            "Loss: 1.964248 [19264/60000]\n",
            "Loss: 1.975609 [25664/60000]\n",
            "Loss: 1.984511 [32064/60000]\n",
            "Loss: 1.973543 [38464/60000]\n",
            "Loss: 2.023230 [44864/60000]\n",
            "Loss: 1.979478 [51264/60000]\n",
            "Loss: 1.982785 [57664/60000]\n",
            "Test error: \n",
            " Accuracy: 80.3%, Avg loss: 1.974623 \n",
            "\n",
            "Epoch 10\n",
            "------------------------------\n",
            "Loss: 1.991401 [   64/60000]\n",
            "Loss: 1.965819 [ 6464/60000]\n",
            "Loss: 1.993085 [12864/60000]\n",
            "Loss: 1.945540 [19264/60000]\n",
            "Loss: 1.955314 [25664/60000]\n",
            "Loss: 1.965018 [32064/60000]\n",
            "Loss: 1.954462 [38464/60000]\n",
            "Loss: 2.005456 [44864/60000]\n",
            "Loss: 1.961592 [51264/60000]\n",
            "Loss: 1.965686 [57664/60000]\n",
            "Test error: \n",
            " Accuracy: 80.8%, Avg loss: 1.956400 \n",
            "\n",
            "Epoch 11\n",
            "------------------------------\n",
            "Loss: 1.973422 [   64/60000]\n",
            "Loss: 1.947304 [ 6464/60000]\n",
            "Loss: 1.974964 [12864/60000]\n",
            "Loss: 1.929053 [19264/60000]\n",
            "Loss: 1.937329 [25664/60000]\n",
            "Loss: 1.947689 [32064/60000]\n",
            "Loss: 1.937415 [38464/60000]\n",
            "Loss: 1.989445 [44864/60000]\n",
            "Loss: 1.945660 [51264/60000]\n",
            "Loss: 1.950361 [57664/60000]\n",
            "Test error: \n",
            " Accuracy: 81.3%, Avg loss: 1.940124 \n",
            "\n",
            "Epoch 12\n",
            "------------------------------\n",
            "Loss: 1.957291 [   64/60000]\n",
            "Loss: 1.930763 [ 6464/60000]\n",
            "Loss: 1.958632 [12864/60000]\n",
            "Loss: 1.914437 [19264/60000]\n",
            "Loss: 1.921312 [25664/60000]\n",
            "Loss: 1.932199 [32064/60000]\n",
            "Loss: 1.922106 [38464/60000]\n",
            "Loss: 1.974959 [44864/60000]\n",
            "Loss: 1.931387 [51264/60000]\n",
            "Loss: 1.936556 [57664/60000]\n",
            "Test error: \n",
            " Accuracy: 81.6%, Avg loss: 1.925512 \n",
            "\n",
            "Epoch 13\n",
            "------------------------------\n",
            "Loss: 1.942748 [   64/60000]\n",
            "Loss: 1.915915 [ 6464/60000]\n",
            "Loss: 1.943848 [12864/60000]\n",
            "Loss: 1.901401 [19264/60000]\n",
            "Loss: 1.906976 [25664/60000]\n",
            "Loss: 1.918279 [32064/60000]\n",
            "Loss: 1.908288 [38464/60000]\n",
            "Loss: 1.961796 [44864/60000]\n",
            "Loss: 1.918531 [51264/60000]\n",
            "Loss: 1.924060 [57664/60000]\n",
            "Test error: \n",
            " Accuracy: 81.9%, Avg loss: 1.912326 \n",
            "\n",
            "Epoch 14\n",
            "------------------------------\n",
            "Loss: 1.929572 [   64/60000]\n",
            "Loss: 1.902521 [ 6464/60000]\n",
            "Loss: 1.930409 [12864/60000]\n",
            "Loss: 1.889707 [19264/60000]\n",
            "Loss: 1.894081 [25664/60000]\n",
            "Loss: 1.905705 [32064/60000]\n",
            "Loss: 1.895754 [38464/60000]\n",
            "Loss: 1.949783 [44864/60000]\n",
            "Loss: 1.906889 [51264/60000]\n",
            "Loss: 1.912697 [57664/60000]\n",
            "Test error: \n",
            " Accuracy: 82.1%, Avg loss: 1.900370 \n",
            "\n",
            "Epoch 15\n",
            "------------------------------\n",
            "Loss: 1.917580 [   64/60000]\n",
            "Loss: 1.890384 [ 6464/60000]\n",
            "Loss: 1.918141 [12864/60000]\n",
            "Loss: 1.879159 [19264/60000]\n",
            "Loss: 1.882424 [25664/60000]\n",
            "Loss: 1.894293 [32064/60000]\n",
            "Loss: 1.884334 [38464/60000]\n",
            "Loss: 1.938777 [44864/60000]\n",
            "Loss: 1.896295 [51264/60000]\n",
            "Loss: 1.902316 [57664/60000]\n",
            "Test error: \n",
            " Accuracy: 82.4%, Avg loss: 1.889477 \n",
            "\n",
            "Epoch 16\n",
            "------------------------------\n",
            "Loss: 1.906614 [   64/60000]\n",
            "Loss: 1.879333 [ 6464/60000]\n",
            "Loss: 1.906898 [12864/60000]\n",
            "Loss: 1.869597 [19264/60000]\n",
            "Loss: 1.871838 [25664/60000]\n",
            "Loss: 1.883890 [32064/60000]\n",
            "Loss: 1.873883 [38464/60000]\n",
            "Loss: 1.928653 [44864/60000]\n",
            "Loss: 1.886610 [51264/60000]\n",
            "Loss: 1.892793 [57664/60000]\n",
            "Test error: \n",
            " Accuracy: 82.4%, Avg loss: 1.879511 \n",
            "\n",
            "Epoch 17\n",
            "------------------------------\n",
            "Loss: 1.896544 [   64/60000]\n",
            "Loss: 1.869230 [ 6464/60000]\n",
            "Loss: 1.896556 [12864/60000]\n",
            "Loss: 1.860886 [19264/60000]\n",
            "Loss: 1.862181 [25664/60000]\n",
            "Loss: 1.874367 [32064/60000]\n",
            "Loss: 1.864281 [38464/60000]\n",
            "Loss: 1.919308 [44864/60000]\n",
            "Loss: 1.877717 [51264/60000]\n",
            "Loss: 1.884024 [57664/60000]\n",
            "Test error: \n",
            " Accuracy: 82.6%, Avg loss: 1.870354 \n",
            "\n",
            "Epoch 18\n",
            "------------------------------\n",
            "Loss: 1.887260 [   64/60000]\n",
            "Loss: 1.859955 [ 6464/60000]\n",
            "Loss: 1.887009 [12864/60000]\n",
            "Loss: 1.852914 [19264/60000]\n",
            "Loss: 1.853335 [25664/60000]\n",
            "Loss: 1.865616 [32064/60000]\n",
            "Loss: 1.855425 [38464/60000]\n",
            "Loss: 1.910652 [44864/60000]\n",
            "Loss: 1.869520 [51264/60000]\n",
            "Loss: 1.875917 [57664/60000]\n",
            "Test error: \n",
            " Accuracy: 82.7%, Avg loss: 1.861910 \n",
            "\n",
            "Epoch 19\n",
            "------------------------------\n",
            "Loss: 1.878667 [   64/60000]\n",
            "Loss: 1.851407 [ 6464/60000]\n",
            "Loss: 1.878167 [12864/60000]\n",
            "Loss: 1.845588 [19264/60000]\n",
            "Loss: 1.845200 [25664/60000]\n",
            "Loss: 1.857544 [32064/60000]\n",
            "Loss: 1.847228 [38464/60000]\n",
            "Loss: 1.902610 [44864/60000]\n",
            "Loss: 1.861936 [51264/60000]\n",
            "Loss: 1.868398 [57664/60000]\n",
            "Test error: \n",
            " Accuracy: 82.8%, Avg loss: 1.854094 \n",
            "\n",
            "Epoch 20\n",
            "------------------------------\n",
            "Loss: 1.870688 [   64/60000]\n",
            "Loss: 1.843503 [ 6464/60000]\n",
            "Loss: 1.869953 [12864/60000]\n",
            "Loss: 1.838831 [19264/60000]\n",
            "Loss: 1.837691 [25664/60000]\n",
            "Loss: 1.850075 [32064/60000]\n",
            "Loss: 1.839617 [38464/60000]\n",
            "Loss: 1.895116 [44864/60000]\n",
            "Loss: 1.854895 [51264/60000]\n",
            "Loss: 1.861402 [57664/60000]\n",
            "Test error: \n",
            " Accuracy: 83.0%, Avg loss: 1.846837 \n",
            "\n",
            "Epoch 21\n",
            "------------------------------\n",
            "Loss: 1.863253 [   64/60000]\n",
            "Loss: 1.836168 [ 6464/60000]\n",
            "Loss: 1.862299 [12864/60000]\n",
            "Loss: 1.832574 [19264/60000]\n",
            "Loss: 1.830736 [25664/60000]\n",
            "Loss: 1.843142 [32064/60000]\n",
            "Loss: 1.832528 [38464/60000]\n",
            "Loss: 1.888113 [44864/60000]\n",
            "Loss: 1.848338 [51264/60000]\n",
            "Loss: 1.854872 [57664/60000]\n",
            "Test error: \n",
            " Accuracy: 83.2%, Avg loss: 1.840077 \n",
            "\n",
            "Epoch 22\n",
            "------------------------------\n",
            "Loss: 1.856305 [   64/60000]\n",
            "Loss: 1.829341 [ 6464/60000]\n",
            "Loss: 1.855148 [12864/60000]\n",
            "Loss: 1.826762 [19264/60000]\n",
            "Loss: 1.824273 [25664/60000]\n",
            "Loss: 1.836687 [32064/60000]\n",
            "Loss: 1.825905 [38464/60000]\n",
            "Loss: 1.881553 [44864/60000]\n",
            "Loss: 1.842214 [51264/60000]\n",
            "Loss: 1.848760 [57664/60000]\n",
            "Test error: \n",
            " Accuracy: 83.3%, Avg loss: 1.833762 \n",
            "\n",
            "Epoch 23\n",
            "------------------------------\n",
            "Loss: 1.849793 [   64/60000]\n",
            "Loss: 1.822968 [ 6464/60000]\n",
            "Loss: 1.848450 [12864/60000]\n",
            "Loss: 1.821347 [19264/60000]\n",
            "Loss: 1.818250 [25664/60000]\n",
            "Loss: 1.830662 [32064/60000]\n",
            "Loss: 1.819703 [38464/60000]\n",
            "Loss: 1.875393 [44864/60000]\n",
            "Loss: 1.836478 [51264/60000]\n",
            "Loss: 1.843026 [57664/60000]\n",
            "Test error: \n",
            " Accuracy: 83.3%, Avg loss: 1.827847 \n",
            "\n",
            "Epoch 24\n",
            "------------------------------\n",
            "Loss: 1.843676 [   64/60000]\n",
            "Loss: 1.817003 [ 6464/60000]\n",
            "Loss: 1.842161 [12864/60000]\n",
            "Loss: 1.816286 [19264/60000]\n",
            "Loss: 1.812620 [25664/60000]\n",
            "Loss: 1.825022 [32064/60000]\n",
            "Loss: 1.813880 [38464/60000]\n",
            "Loss: 1.869595 [44864/60000]\n",
            "Loss: 1.831093 [51264/60000]\n",
            "Loss: 1.837631 [57664/60000]\n",
            "Test error: \n",
            " Accuracy: 83.4%, Avg loss: 1.822293 \n",
            "\n",
            "Epoch 25\n",
            "------------------------------\n",
            "Loss: 1.837914 [   64/60000]\n",
            "Loss: 1.811406 [ 6464/60000]\n",
            "Loss: 1.836244 [12864/60000]\n",
            "Loss: 1.811544 [19264/60000]\n",
            "Loss: 1.807345 [25664/60000]\n",
            "Loss: 1.819731 [32064/60000]\n",
            "Loss: 1.808400 [38464/60000]\n",
            "Loss: 1.864127 [44864/60000]\n",
            "Loss: 1.826024 [51264/60000]\n",
            "Loss: 1.832546 [57664/60000]\n",
            "Test error: \n",
            " Accuracy: 83.5%, Avg loss: 1.817065 \n",
            "\n",
            "DONE!\n"
          ]
        }
      ]
    },
    {
      "cell_type": "code",
      "source": [
        "import random"
      ],
      "metadata": {
        "id": "xrGwEYSey-cw"
      },
      "execution_count": 14,
      "outputs": []
    },
    {
      "cell_type": "code",
      "source": [
        "import random\n",
        "\n",
        "classes = [\"0\", \"1\", \"2\", \"3\", \"4\", \"5\", \"6\", \"7\", \"8\", \"9\"]\n",
        "\n",
        "model.eval()\n",
        "for i in range(20):\n",
        "  index = random.randint(0, len(test_data) - 1)\n",
        "  X, y = test_data[index]\n",
        "\n",
        "  with torch.no_grad():\n",
        "      X = X.to(device)\n",
        "      pred = model(X)\n",
        "      predicted, actual = classes[pred[0].argmax(0)], classes[y]\n",
        "      print(f\"Predicted: {predicted}, Actual: {actual} \\n\")\n"
      ],
      "metadata": {
        "colab": {
          "base_uri": "https://localhost:8080/"
        },
        "id": "5cP1Hiqtv1o9",
        "outputId": "b188260d-67e7-4c60-86dc-f08e75322b14"
      },
      "execution_count": 21,
      "outputs": [
        {
          "output_type": "stream",
          "name": "stdout",
          "text": [
            "Predicted: 9, Actual: 9 \n",
            "\n",
            "Predicted: 5, Actual: 5 \n",
            "\n",
            "Predicted: 8, Actual: 2 \n",
            "\n",
            "Predicted: 1, Actual: 1 \n",
            "\n",
            "Predicted: 1, Actual: 1 \n",
            "\n",
            "Predicted: 3, Actual: 3 \n",
            "\n",
            "Predicted: 9, Actual: 4 \n",
            "\n",
            "Predicted: 4, Actual: 4 \n",
            "\n",
            "Predicted: 8, Actual: 8 \n",
            "\n",
            "Predicted: 1, Actual: 1 \n",
            "\n",
            "Predicted: 3, Actual: 3 \n",
            "\n",
            "Predicted: 4, Actual: 4 \n",
            "\n",
            "Predicted: 1, Actual: 7 \n",
            "\n",
            "Predicted: 7, Actual: 7 \n",
            "\n",
            "Predicted: 1, Actual: 1 \n",
            "\n",
            "Predicted: 2, Actual: 2 \n",
            "\n",
            "Predicted: 8, Actual: 8 \n",
            "\n",
            "Predicted: 0, Actual: 0 \n",
            "\n",
            "Predicted: 5, Actual: 5 \n",
            "\n",
            "Predicted: 9, Actual: 4 \n",
            "\n"
          ]
        }
      ]
    },
    {
      "cell_type": "markdown",
      "source": [
        "**Conclusion:**\n",
        "\n",
        "In this notebook, I successfully implemented a logistic regression model using PyTorch to classify handwritten digits from the MNIST dataset. The project involved several key steps, including data loading, model definition, and training/testing loops. Through these steps, we built a foundational understanding of the logistic regression model and its application in image classification.\n",
        "\n",
        "After training, the model was evaluated on test data to determine its accuracy. While logistic regression provides a good introduction to classification tasks, more complex models (such as deep neural networks) would likely yield better accuracy on the MNIST dataset. This exercise helped reinforce essential concepts in PyTorch and logistic regression, setting a strong foundation for more advanced deep learning models."
      ],
      "metadata": {
        "id": "gp7JmuMwGZA2"
      }
    }
  ],
  "metadata": {
    "language_info": {
      "name": "python"
    },
    "colab": {
      "provenance": [],
      "include_colab_link": true
    },
    "kernelspec": {
      "name": "python3",
      "display_name": "Python 3"
    }
  },
  "nbformat": 4,
  "nbformat_minor": 0
}